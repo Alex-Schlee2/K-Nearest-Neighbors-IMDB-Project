{
 "cells": [
  {
   "cell_type": "code",
   "execution_count": 1,
   "metadata": {},
   "outputs": [],
   "source": [
    "import pandas as pd\n",
    "import csv\n",
    "import numpy as np\n",
    "import matplotlib.pyplot as plt\n",
    "import seaborn as sns\n",
    "%matplotlib inline"
   ]
  },
  {
   "cell_type": "code",
   "execution_count": 2,
   "metadata": {},
   "outputs": [
    {
     "data": {
      "text/html": [
       "<div>\n",
       "<style scoped>\n",
       "    .dataframe tbody tr th:only-of-type {\n",
       "        vertical-align: middle;\n",
       "    }\n",
       "\n",
       "    .dataframe tbody tr th {\n",
       "        vertical-align: top;\n",
       "    }\n",
       "\n",
       "    .dataframe thead th {\n",
       "        text-align: right;\n",
       "    }\n",
       "</style>\n",
       "<table border=\"1\" class=\"dataframe\">\n",
       "  <thead>\n",
       "    <tr style=\"text-align: right;\">\n",
       "      <th></th>\n",
       "      <th>title</th>\n",
       "      <th>year</th>\n",
       "      <th>rating</th>\n",
       "      <th>rating_count</th>\n",
       "      <th>genre</th>\n",
       "    </tr>\n",
       "  </thead>\n",
       "  <tbody>\n",
       "    <tr>\n",
       "      <td>0</td>\n",
       "      <td>Gladiator</td>\n",
       "      <td>2000</td>\n",
       "      <td>8.5</td>\n",
       "      <td>1,294,736</td>\n",
       "      <td>Action,Adventure,Drama,5 May 2000 (USA)\\n</td>\n",
       "    </tr>\n",
       "    <tr>\n",
       "      <td>1</td>\n",
       "      <td>Jurassic Park</td>\n",
       "      <td>1993</td>\n",
       "      <td>8.1</td>\n",
       "      <td>834,297</td>\n",
       "      <td>Action,Adventure,Sci-Fi,11 June 1993 (USA)\\n</td>\n",
       "    </tr>\n",
       "    <tr>\n",
       "      <td>2</td>\n",
       "      <td>Saving Private Ryan</td>\n",
       "      <td>1998</td>\n",
       "      <td>8.6</td>\n",
       "      <td>1,191,235</td>\n",
       "      <td>Drama,War,24 July 1998 (USA)\\n</td>\n",
       "    </tr>\n",
       "    <tr>\n",
       "      <td>3</td>\n",
       "      <td>Pulp Fiction</td>\n",
       "      <td>1994</td>\n",
       "      <td>8.9</td>\n",
       "      <td>1,763,342</td>\n",
       "      <td>Crime,Drama,14 October 1994 (USA)\\n</td>\n",
       "    </tr>\n",
       "    <tr>\n",
       "      <td>4</td>\n",
       "      <td>Inglourious Basterds</td>\n",
       "      <td>2009</td>\n",
       "      <td>8.3</td>\n",
       "      <td>1,216,056</td>\n",
       "      <td>Adventure,Drama,War,21 August 2009 (USA)\\n</td>\n",
       "    </tr>\n",
       "  </tbody>\n",
       "</table>\n",
       "</div>"
      ],
      "text/plain": [
       "                   title  year  rating rating_count  \\\n",
       "0             Gladiator   2000     8.5    1,294,736   \n",
       "1         Jurassic Park   1993     8.1      834,297   \n",
       "2   Saving Private Ryan   1998     8.6    1,191,235   \n",
       "3          Pulp Fiction   1994     8.9    1,763,342   \n",
       "4  Inglourious Basterds   2009     8.3    1,216,056   \n",
       "\n",
       "                                          genre  \n",
       "0     Action,Adventure,Drama,5 May 2000 (USA)\\n  \n",
       "1  Action,Adventure,Sci-Fi,11 June 1993 (USA)\\n  \n",
       "2                Drama,War,24 July 1998 (USA)\\n  \n",
       "3           Crime,Drama,14 October 1994 (USA)\\n  \n",
       "4    Adventure,Drama,War,21 August 2009 (USA)\\n  "
      ]
     },
     "execution_count": 2,
     "metadata": {},
     "output_type": "execute_result"
    }
   ],
   "source": [
    "#Dataframe\n",
    "df=pd.read_csv('Dataset1- IMDB-Scraped-Data.csv')\n",
    "df.head()"
   ]
  },
  {
   "cell_type": "code",
   "execution_count": 3,
   "metadata": {},
   "outputs": [
    {
     "name": "stdout",
     "output_type": "stream",
     "text": [
      "<class 'pandas.core.frame.DataFrame'>\n",
      "RangeIndex: 938 entries, 0 to 937\n",
      "Data columns (total 5 columns):\n",
      "title           938 non-null object\n",
      "year            938 non-null int64\n",
      "rating          938 non-null float64\n",
      "rating_count    938 non-null object\n",
      "genre           938 non-null object\n",
      "dtypes: float64(1), int64(1), object(3)\n",
      "memory usage: 36.8+ KB\n"
     ]
    }
   ],
   "source": [
    "#Data information\n",
    "df.info()"
   ]
  },
  {
   "cell_type": "code",
   "execution_count": 4,
   "metadata": {},
   "outputs": [],
   "source": [
    "#change 'rating_count' column (string to integer)\n",
    "df[\"rating_count\"] = pd.to_numeric(df[\"rating_count\"].str.replace(',', ''))"
   ]
  },
  {
   "cell_type": "code",
   "execution_count": 5,
   "metadata": {},
   "outputs": [
    {
     "name": "stdout",
     "output_type": "stream",
     "text": [
      "<class 'pandas.core.frame.DataFrame'>\n",
      "RangeIndex: 938 entries, 0 to 937\n",
      "Data columns (total 5 columns):\n",
      "title           938 non-null object\n",
      "year            938 non-null int64\n",
      "rating          938 non-null float64\n",
      "rating_count    938 non-null int64\n",
      "genre           938 non-null object\n",
      "dtypes: float64(1), int64(2), object(2)\n",
      "memory usage: 36.8+ KB\n"
     ]
    }
   ],
   "source": [
    "df.info()"
   ]
  },
  {
   "cell_type": "code",
   "execution_count": 6,
   "metadata": {},
   "outputs": [],
   "source": [
    "df=df.reset_index()"
   ]
  },
  {
   "cell_type": "code",
   "execution_count": 7,
   "metadata": {},
   "outputs": [],
   "source": [
    "df=df.rename({'index': 'Movie_ID'}, axis=1)"
   ]
  },
  {
   "cell_type": "markdown",
   "metadata": {},
   "source": [
    "# movie genres:\n",
    "\n",
    "- Action                      \n",
    "- Adventure        \n",
    "- Animation        \n",
    "- Biography        \n",
    "- Comedy           \n",
    "- Crime            \n",
    "- Documentary      \n",
    "- Drama            \n",
    "- Family           \n",
    "- Fantasy          \n",
    "- Mystery          \n",
    "- Talk-Show        \n",
    "- War              \n",
    "- Film-Noir\n",
    "- Game-Show\n",
    "- History\n",
    "- Horror\n",
    "- Music\n",
    "- Musical\n",
    "- Reality-TV\n",
    "- News\n",
    "- Romance\n",
    "- Sci-Fi\n",
    "- Sport \n",
    "- Thriller\n",
    "- Western"
   ]
  },
  {
   "cell_type": "code",
   "execution_count": 8,
   "metadata": {},
   "outputs": [],
   "source": [
    "#Adding new columns and check if the mentioned genre is inside the 'genre' column\n",
    "\n",
    "df['Action']=df['genre'].apply(lambda x: 1 if 'action' in x.lower() else 0)\n",
    "df['Adventure']=df['genre'].apply(lambda x: 1 if 'adventure' in x.lower() else 0)\n",
    "df['Animation']=df['genre'].apply(lambda x: 1 if 'animation' in x.lower() else 0)\n",
    "df['Biography']=df['genre'].apply(lambda x: 1 if 'biography' in x.lower() else 0)\n",
    "df['Comedy']=df['genre'].apply(lambda x: 1 if 'comedy' in x.lower() else 0)\n",
    "df['Crime']=df['genre'].apply(lambda x: 1 if 'crime' in x.lower() else 0)\n",
    "df['Documentary']=df['genre'].apply(lambda x: 1 if 'documentary' in x.lower() else 0)\n",
    "df['Drama']=df['genre'].apply(lambda x: 1 if 'drama' in x.lower() else 0)\n",
    "df['Family']=df['genre'].apply(lambda x: 1 if 'family' in x.lower() else 0)\n",
    "df['Fantasy']=df['genre'].apply(lambda x: 1 if 'fantasy' in x.lower() else 0)\n",
    "df['Mystery']=df['genre'].apply(lambda x: 1 if 'mystery' in x.lower() else 0)\n",
    "df['Talk-Show']=df['genre'].apply(lambda x: 1 if 'talk' in x.lower() else 0)\n",
    "df['War']=df['genre'].apply(lambda x: 1 if 'war' in x.lower() else 0)\n",
    "df['Film-Noir']=df['genre'].apply(lambda x: 1 if 'noir' in x.lower() else 0)\n",
    "df['Game-Show']=df['genre'].apply(lambda x: 1 if 'game' in x.lower() else 0)\n",
    "df['History']=df['genre'].apply(lambda x: 1 if 'history' in x.lower() else 0)\n",
    "df['Horror']=df['genre'].apply(lambda x: 1 if 'horror' in x.lower() else 0)\n",
    "df['Music']=df['genre'].apply(lambda x: 1 if 'music' in x.lower() else 0)\n",
    "df['Musical']=df['genre'].apply(lambda x: 1 if 'musical' in x.lower() else 0)\n",
    "df['Reality-TV']=df['genre'].apply(lambda x: 1 if 'reality' in x.lower() else 0)\n",
    "df['News']=df['genre'].apply(lambda x: 1 if 'news' in x.lower() else 0)\n",
    "df['Romance']=df['genre'].apply(lambda x: 1 if 'romance' in x.lower() else 0)\n",
    "df['Sci-Fi']=df['genre'].apply(lambda x: 1 if 'sci' in x.lower() else 0)\n",
    "df['Sport']=df['genre'].apply(lambda x: 1 if 'sport' in x.lower() else 0)\n",
    "df['Thriller']=df['genre'].apply(lambda x: 1 if 'thriller' in x.lower() else 0)\n",
    "df['Western']=df['genre'].apply(lambda x: 1 if 'western' in x.lower() else 0)"
   ]
  },
  {
   "cell_type": "code",
   "execution_count": 9,
   "metadata": {},
   "outputs": [
    {
     "data": {
      "text/html": [
       "<div>\n",
       "<style scoped>\n",
       "    .dataframe tbody tr th:only-of-type {\n",
       "        vertical-align: middle;\n",
       "    }\n",
       "\n",
       "    .dataframe tbody tr th {\n",
       "        vertical-align: top;\n",
       "    }\n",
       "\n",
       "    .dataframe thead th {\n",
       "        text-align: right;\n",
       "    }\n",
       "</style>\n",
       "<table border=\"1\" class=\"dataframe\">\n",
       "  <thead>\n",
       "    <tr style=\"text-align: right;\">\n",
       "      <th></th>\n",
       "      <th>Movie_ID</th>\n",
       "      <th>title</th>\n",
       "      <th>year</th>\n",
       "      <th>rating</th>\n",
       "      <th>rating_count</th>\n",
       "      <th>genre</th>\n",
       "      <th>Action</th>\n",
       "      <th>Adventure</th>\n",
       "      <th>Animation</th>\n",
       "      <th>Biography</th>\n",
       "      <th>...</th>\n",
       "      <th>Horror</th>\n",
       "      <th>Music</th>\n",
       "      <th>Musical</th>\n",
       "      <th>Reality-TV</th>\n",
       "      <th>News</th>\n",
       "      <th>Romance</th>\n",
       "      <th>Sci-Fi</th>\n",
       "      <th>Sport</th>\n",
       "      <th>Thriller</th>\n",
       "      <th>Western</th>\n",
       "    </tr>\n",
       "  </thead>\n",
       "  <tbody>\n",
       "    <tr>\n",
       "      <td>0</td>\n",
       "      <td>0</td>\n",
       "      <td>Gladiator</td>\n",
       "      <td>2000</td>\n",
       "      <td>8.5</td>\n",
       "      <td>1294736</td>\n",
       "      <td>Action,Adventure,Drama,5 May 2000 (USA)\\n</td>\n",
       "      <td>1</td>\n",
       "      <td>1</td>\n",
       "      <td>0</td>\n",
       "      <td>0</td>\n",
       "      <td>...</td>\n",
       "      <td>0</td>\n",
       "      <td>0</td>\n",
       "      <td>0</td>\n",
       "      <td>0</td>\n",
       "      <td>0</td>\n",
       "      <td>0</td>\n",
       "      <td>0</td>\n",
       "      <td>0</td>\n",
       "      <td>0</td>\n",
       "      <td>0</td>\n",
       "    </tr>\n",
       "    <tr>\n",
       "      <td>1</td>\n",
       "      <td>1</td>\n",
       "      <td>Jurassic Park</td>\n",
       "      <td>1993</td>\n",
       "      <td>8.1</td>\n",
       "      <td>834297</td>\n",
       "      <td>Action,Adventure,Sci-Fi,11 June 1993 (USA)\\n</td>\n",
       "      <td>1</td>\n",
       "      <td>1</td>\n",
       "      <td>0</td>\n",
       "      <td>0</td>\n",
       "      <td>...</td>\n",
       "      <td>0</td>\n",
       "      <td>0</td>\n",
       "      <td>0</td>\n",
       "      <td>0</td>\n",
       "      <td>0</td>\n",
       "      <td>0</td>\n",
       "      <td>1</td>\n",
       "      <td>0</td>\n",
       "      <td>0</td>\n",
       "      <td>0</td>\n",
       "    </tr>\n",
       "    <tr>\n",
       "      <td>2</td>\n",
       "      <td>2</td>\n",
       "      <td>Saving Private Ryan</td>\n",
       "      <td>1998</td>\n",
       "      <td>8.6</td>\n",
       "      <td>1191235</td>\n",
       "      <td>Drama,War,24 July 1998 (USA)\\n</td>\n",
       "      <td>0</td>\n",
       "      <td>0</td>\n",
       "      <td>0</td>\n",
       "      <td>0</td>\n",
       "      <td>...</td>\n",
       "      <td>0</td>\n",
       "      <td>0</td>\n",
       "      <td>0</td>\n",
       "      <td>0</td>\n",
       "      <td>0</td>\n",
       "      <td>0</td>\n",
       "      <td>0</td>\n",
       "      <td>0</td>\n",
       "      <td>0</td>\n",
       "      <td>0</td>\n",
       "    </tr>\n",
       "    <tr>\n",
       "      <td>3</td>\n",
       "      <td>3</td>\n",
       "      <td>Pulp Fiction</td>\n",
       "      <td>1994</td>\n",
       "      <td>8.9</td>\n",
       "      <td>1763342</td>\n",
       "      <td>Crime,Drama,14 October 1994 (USA)\\n</td>\n",
       "      <td>0</td>\n",
       "      <td>0</td>\n",
       "      <td>0</td>\n",
       "      <td>0</td>\n",
       "      <td>...</td>\n",
       "      <td>0</td>\n",
       "      <td>0</td>\n",
       "      <td>0</td>\n",
       "      <td>0</td>\n",
       "      <td>0</td>\n",
       "      <td>0</td>\n",
       "      <td>0</td>\n",
       "      <td>0</td>\n",
       "      <td>0</td>\n",
       "      <td>0</td>\n",
       "    </tr>\n",
       "    <tr>\n",
       "      <td>4</td>\n",
       "      <td>4</td>\n",
       "      <td>Inglourious Basterds</td>\n",
       "      <td>2009</td>\n",
       "      <td>8.3</td>\n",
       "      <td>1216056</td>\n",
       "      <td>Adventure,Drama,War,21 August 2009 (USA)\\n</td>\n",
       "      <td>0</td>\n",
       "      <td>1</td>\n",
       "      <td>0</td>\n",
       "      <td>0</td>\n",
       "      <td>...</td>\n",
       "      <td>0</td>\n",
       "      <td>0</td>\n",
       "      <td>0</td>\n",
       "      <td>0</td>\n",
       "      <td>0</td>\n",
       "      <td>0</td>\n",
       "      <td>0</td>\n",
       "      <td>0</td>\n",
       "      <td>0</td>\n",
       "      <td>0</td>\n",
       "    </tr>\n",
       "  </tbody>\n",
       "</table>\n",
       "<p>5 rows × 32 columns</p>\n",
       "</div>"
      ],
      "text/plain": [
       "   Movie_ID                  title  year  rating  rating_count  \\\n",
       "0         0             Gladiator   2000     8.5       1294736   \n",
       "1         1         Jurassic Park   1993     8.1        834297   \n",
       "2         2   Saving Private Ryan   1998     8.6       1191235   \n",
       "3         3          Pulp Fiction   1994     8.9       1763342   \n",
       "4         4  Inglourious Basterds   2009     8.3       1216056   \n",
       "\n",
       "                                          genre  Action  Adventure  Animation  \\\n",
       "0     Action,Adventure,Drama,5 May 2000 (USA)\\n       1          1          0   \n",
       "1  Action,Adventure,Sci-Fi,11 June 1993 (USA)\\n       1          1          0   \n",
       "2                Drama,War,24 July 1998 (USA)\\n       0          0          0   \n",
       "3           Crime,Drama,14 October 1994 (USA)\\n       0          0          0   \n",
       "4    Adventure,Drama,War,21 August 2009 (USA)\\n       0          1          0   \n",
       "\n",
       "   Biography  ...  Horror  Music  Musical  Reality-TV  News  Romance  Sci-Fi  \\\n",
       "0          0  ...       0      0        0           0     0        0       0   \n",
       "1          0  ...       0      0        0           0     0        0       1   \n",
       "2          0  ...       0      0        0           0     0        0       0   \n",
       "3          0  ...       0      0        0           0     0        0       0   \n",
       "4          0  ...       0      0        0           0     0        0       0   \n",
       "\n",
       "   Sport  Thriller  Western  \n",
       "0      0         0        0  \n",
       "1      0         0        0  \n",
       "2      0         0        0  \n",
       "3      0         0        0  \n",
       "4      0         0        0  \n",
       "\n",
       "[5 rows x 32 columns]"
      ]
     },
     "execution_count": 9,
     "metadata": {},
     "output_type": "execute_result"
    }
   ],
   "source": [
    "#new dataframe\n",
    "df.head()"
   ]
  },
  {
   "cell_type": "code",
   "execution_count": 10,
   "metadata": {},
   "outputs": [
    {
     "data": {
      "text/html": [
       "<div>\n",
       "<style scoped>\n",
       "    .dataframe tbody tr th:only-of-type {\n",
       "        vertical-align: middle;\n",
       "    }\n",
       "\n",
       "    .dataframe tbody tr th {\n",
       "        vertical-align: top;\n",
       "    }\n",
       "\n",
       "    .dataframe thead th {\n",
       "        text-align: right;\n",
       "    }\n",
       "</style>\n",
       "<table border=\"1\" class=\"dataframe\">\n",
       "  <thead>\n",
       "    <tr style=\"text-align: right;\">\n",
       "      <th></th>\n",
       "      <th>rating_count</th>\n",
       "      <th>rating</th>\n",
       "    </tr>\n",
       "    <tr>\n",
       "      <th>Movie_ID</th>\n",
       "      <th></th>\n",
       "      <th></th>\n",
       "    </tr>\n",
       "  </thead>\n",
       "  <tbody>\n",
       "    <tr>\n",
       "      <td>0</td>\n",
       "      <td>1294736</td>\n",
       "      <td>8.5</td>\n",
       "    </tr>\n",
       "    <tr>\n",
       "      <td>1</td>\n",
       "      <td>834297</td>\n",
       "      <td>8.1</td>\n",
       "    </tr>\n",
       "    <tr>\n",
       "      <td>2</td>\n",
       "      <td>1191235</td>\n",
       "      <td>8.6</td>\n",
       "    </tr>\n",
       "    <tr>\n",
       "      <td>3</td>\n",
       "      <td>1763342</td>\n",
       "      <td>8.9</td>\n",
       "    </tr>\n",
       "    <tr>\n",
       "      <td>4</td>\n",
       "      <td>1216056</td>\n",
       "      <td>8.3</td>\n",
       "    </tr>\n",
       "  </tbody>\n",
       "</table>\n",
       "</div>"
      ],
      "text/plain": [
       "          rating_count  rating\n",
       "Movie_ID                      \n",
       "0              1294736     8.5\n",
       "1               834297     8.1\n",
       "2              1191235     8.6\n",
       "3              1763342     8.9\n",
       "4              1216056     8.3"
      ]
     },
     "execution_count": 10,
     "metadata": {},
     "output_type": "execute_result"
    }
   ],
   "source": [
    "#Rating Overview\n",
    "movie_clustering=df[['Movie_ID','rating_count', 'rating']] .groupby('Movie_ID').first()  \n",
    "movie_clustering.head()"
   ]
  },
  {
   "cell_type": "code",
   "execution_count": 11,
   "metadata": {},
   "outputs": [
    {
     "data": {
      "text/html": [
       "<div>\n",
       "<style scoped>\n",
       "    .dataframe tbody tr th:only-of-type {\n",
       "        vertical-align: middle;\n",
       "    }\n",
       "\n",
       "    .dataframe tbody tr th {\n",
       "        vertical-align: top;\n",
       "    }\n",
       "\n",
       "    .dataframe thead th {\n",
       "        text-align: right;\n",
       "    }\n",
       "</style>\n",
       "<table border=\"1\" class=\"dataframe\">\n",
       "  <thead>\n",
       "    <tr style=\"text-align: right;\">\n",
       "      <th></th>\n",
       "      <th>rating_count</th>\n",
       "    </tr>\n",
       "    <tr>\n",
       "      <th>Movie_ID</th>\n",
       "      <th></th>\n",
       "    </tr>\n",
       "  </thead>\n",
       "  <tbody>\n",
       "    <tr>\n",
       "      <td>0</td>\n",
       "      <td>0.574726</td>\n",
       "    </tr>\n",
       "    <tr>\n",
       "      <td>1</td>\n",
       "      <td>0.370330</td>\n",
       "    </tr>\n",
       "    <tr>\n",
       "      <td>2</td>\n",
       "      <td>0.528780</td>\n",
       "    </tr>\n",
       "    <tr>\n",
       "      <td>3</td>\n",
       "      <td>0.782746</td>\n",
       "    </tr>\n",
       "    <tr>\n",
       "      <td>4</td>\n",
       "      <td>0.539798</td>\n",
       "    </tr>\n",
       "  </tbody>\n",
       "</table>\n",
       "</div>"
      ],
      "text/plain": [
       "          rating_count\n",
       "Movie_ID              \n",
       "0             0.574726\n",
       "1             0.370330\n",
       "2             0.528780\n",
       "3             0.782746\n",
       "4             0.539798"
      ]
     },
     "execution_count": 11,
     "metadata": {},
     "output_type": "execute_result"
    }
   ],
   "source": [
    "#Normalizing Movie Ratings(between 0 and 1)\n",
    "#we need it for distance metrics\n",
    "\n",
    "movie_rating_number=pd.DataFrame(movie_clustering['rating_count'])\n",
    "movie_rating_number_shaped= movie_rating_number.apply(lambda x: (x - np.min(x)) / (np.max(x) - np.min(x)))\n",
    "movie_rating_number_shaped.head()"
   ]
  },
  {
   "cell_type": "code",
   "execution_count": 12,
   "metadata": {},
   "outputs": [
    {
     "data": {
      "text/plain": [
       "rating_count    1.0\n",
       "Name: 927, dtype: float64"
      ]
     },
     "execution_count": 12,
     "metadata": {},
     "output_type": "execute_result"
    }
   ],
   "source": [
    "#After normalizing movie ratings (Maximum= 1.0)\n",
    "movie_rating_number_shaped.loc[movie_rating_number_shaped['rating_count'].idxmax()]"
   ]
  },
  {
   "cell_type": "code",
   "execution_count": 13,
   "metadata": {},
   "outputs": [
    {
     "data": {
      "text/plain": [
       "rating_count    0.0\n",
       "Name: 314, dtype: float64"
      ]
     },
     "execution_count": 13,
     "metadata": {},
     "output_type": "execute_result"
    }
   ],
   "source": [
    "#After normalizing movie ratings (Minimum= 0.0)\n",
    "movie_rating_number_shaped.loc[movie_rating_number_shaped['rating_count'].idxmin()]"
   ]
  },
  {
   "cell_type": "code",
   "execution_count": 14,
   "metadata": {},
   "outputs": [],
   "source": [
    "#save the dataset\n",
    "df.to_csv('Dataset2- IMDB_modified_Dataframe.csv', index=False)"
   ]
  },
  {
   "cell_type": "code",
   "execution_count": 15,
   "metadata": {},
   "outputs": [],
   "source": [
    "dataframe=pd.read_csv('Dataset2- IMDB_modified_Dataframe.csv')"
   ]
  },
  {
   "cell_type": "code",
   "execution_count": 16,
   "metadata": {},
   "outputs": [],
   "source": [
    "movdict={} # empty dict\n",
    "with open('Dataset2- IMDB_modified_Dataframe.csv',encoding='UTF-8') as csv_file:\n",
    "    csv_reader = csv.reader(csv_file)\n",
    "    next(csv_reader)# skip first row name\n",
    "    \n",
    "    for column in csv_reader:\n",
    "        \n",
    "        fields=column\n",
    "        \n",
    "        name=fields[1].replace('\\xa0', '') #remove unneccesary string elements\n",
    "        \n",
    "        movie_id_=int(fields[0])\n",
    "        \n",
    "        genres=(fields[6:32])            #26 genre columns (0 or 1)\n",
    "        \n",
    "        genres = list(map(int, genres))  #set integers\n",
    "        \n",
    "        \n",
    "        #concatenate the elements\n",
    "        #Dictionary Key: movie id \n",
    "        #Dictionary Values: movie name, genre list, popularity score, rating \n",
    "        movdict[movie_id_]=(name, genres, movie_rating_number_shaped.loc[movie_id_].get('rating_count'), movie_clustering.loc[movie_id_].rating)\n",
    "        \n",
    "        "
   ]
  },
  {
   "cell_type": "code",
   "execution_count": 17,
   "metadata": {},
   "outputs": [
    {
     "name": "stdout",
     "output_type": "stream",
     "text": [
      "Pretty printing has been turned OFF\n"
     ]
    }
   ],
   "source": [
    "# returning the list with genre information horizontally instead of vertically\n",
    "%pprint"
   ]
  },
  {
   "cell_type": "code",
   "execution_count": 18,
   "metadata": {},
   "outputs": [
    {
     "data": {
      "text/plain": [
       "('Saving Private Ryan', [0, 0, 0, 0, 0, 0, 0, 1, 0, 0, 0, 0, 1, 0, 0, 0, 0, 0, 0, 0, 0, 0, 0, 0, 0, 0], 0.528780023536295, 8.6)"
      ]
     },
     "execution_count": 18,
     "metadata": {},
     "output_type": "execute_result"
    }
   ],
   "source": [
    "movdict[2]"
   ]
  },
  {
   "cell_type": "code",
   "execution_count": 19,
   "metadata": {},
   "outputs": [],
   "source": [
    "#calculating the distance between two movies\n",
    "#The higher the distance, the less similar 2 movies are\n",
    "\n",
    "from scipy import spatial\n",
    "\n",
    "#function takes 2 movie ids, a and b\n",
    "#then calculate distance between those 2 movies(distance score)\n",
    "\n",
    "def Computedistance(a,b):   \n",
    "    genresA=a[1]\n",
    "    genresB=b[1]\n",
    "    \n",
    "    genreDistance=spatial.distance.cosine(genresA, genresB)\n",
    "    \n",
    "    popularityA=a[2]\n",
    "    popularityB=b[2]\n",
    "    \n",
    "    popularityDistance=abs(popularityA-popularityB)\n",
    "    \n",
    "    #function will return result of genre distance + popularity distance\n",
    "    return genreDistance + popularityDistance"
   ]
  },
  {
   "cell_type": "code",
   "execution_count": 53,
   "metadata": {},
   "outputs": [
    {
     "data": {
      "text/plain": [
       "0.8361346496257144"
      ]
     },
     "execution_count": 53,
     "metadata": {},
     "output_type": "execute_result"
    }
   ],
   "source": [
    "#compare the distance between two random movies\n",
    "#this example= comparation between Gladiator and Jurassic Park\n",
    "Computedistance(movdict[1], movdict[4])"
   ]
  },
  {
   "cell_type": "code",
   "execution_count": 54,
   "metadata": {},
   "outputs": [
    {
     "data": {
      "text/plain": [
       "('Jurassic Park', [1, 1, 0, 0, 0, 0, 0, 0, 0, 0, 0, 0, 0, 0, 0, 0, 0, 0, 0, 0, 0, 0, 1, 0, 0, 0], 0.3703304181532221, 8.1)"
      ]
     },
     "execution_count": 54,
     "metadata": {},
     "output_type": "execute_result"
    }
   ],
   "source": [
    "movdict[1]"
   ]
  },
  {
   "cell_type": "code",
   "execution_count": 56,
   "metadata": {},
   "outputs": [
    {
     "data": {
      "text/plain": [
       "('Inglourious Basterds', [0, 1, 0, 0, 0, 0, 0, 1, 0, 0, 0, 0, 1, 0, 0, 0, 0, 0, 0, 0, 0, 0, 0, 0, 0, 0], 0.5397984011122697, 8.3)"
      ]
     },
     "execution_count": 56,
     "metadata": {},
     "output_type": "execute_result"
    }
   ],
   "source": [
    "movdict[4]"
   ]
  },
  {
   "cell_type": "code",
   "execution_count": 66,
   "metadata": {},
   "outputs": [
    {
     "name": "stdout",
     "output_type": "stream",
     "text": [
      "American Beauty 8.3\n",
      "Unforgiven 8.2\n",
      "American History X 8.5\n",
      "True Grit 7.6\n",
      "Fight Club 8.8\n",
      "Requiem for a Dream 8.3\n",
      "Saving Private Ryan 8.6\n",
      "Gladiator 8.5\n"
     ]
    }
   ],
   "source": [
    "#compute distance between one movie and all other movies in dictionary\n",
    "#distance based on distance score\n",
    "#function will calculate knn \n",
    "\n",
    "import operator\n",
    "\n",
    "def get_neighbors(movie_id_, k):\n",
    "    \n",
    "    #empty distance list\n",
    "    distances=[]\n",
    "    \n",
    "    #distance between the first movie and all the other movies in dictionary\n",
    "    for movie in movdict:\n",
    "        if(movie!= movie_id_):\n",
    "            dist= Computedistance(movdict[movie_id_], movdict[movie])\n",
    "            distances.append((movie, dist))\n",
    "            \n",
    "            #sort result based on distance score\n",
    "    distances.sort(key=operator.itemgetter(1))\n",
    "    \n",
    "    #when we have neighbors list, we go through each k value and append results\n",
    "    #in neighbors list\n",
    "    neighbors=[]\n",
    "    for i in range(k): \n",
    "        neighbors.append(distances[i][0])\n",
    "    return neighbors\n",
    "\n",
    "k=8\n",
    "avg_rating=0\n",
    "#finding 5 nearest neighbors, using get_neighbors function\n",
    "\n",
    "# movie:Django Unchained\n",
    "neighbors=get_neighbors(8,k)\n",
    "\n",
    "for neighbor in neighbors:\n",
    "        avg_rating+=movdict[neighbor][3]\n",
    "        print (movdict[neighbor][0]+ ' '+ str(movdict[neighbor][3]))\n",
    "           \n",
    "avg_rating /= float(k)    "
   ]
  },
  {
   "cell_type": "code",
   "execution_count": 67,
   "metadata": {},
   "outputs": [
    {
     "data": {
      "text/plain": [
       "('Django Unchained', [0, 0, 0, 0, 0, 0, 0, 1, 0, 0, 0, 0, 0, 0, 0, 0, 0, 0, 0, 0, 0, 0, 0, 0, 0, 1], 0.5785880087415451, 8.4)"
      ]
     },
     "execution_count": 67,
     "metadata": {},
     "output_type": "execute_result"
    }
   ],
   "source": [
    "movdict[8]"
   ]
  },
  {
   "cell_type": "code",
   "execution_count": 68,
   "metadata": {},
   "outputs": [
    {
     "data": {
      "text/plain": [
       "8.350000000000001"
      ]
     },
     "execution_count": 68,
     "metadata": {},
     "output_type": "execute_result"
    }
   ],
   "source": [
    "#average rating of (k=5) nearest neighbors (movie:Django Unchained)\n",
    "avg_rating"
   ]
  },
  {
   "cell_type": "code",
   "execution_count": null,
   "metadata": {},
   "outputs": [],
   "source": []
  }
 ],
 "metadata": {
  "kernelspec": {
   "display_name": "Python 3",
   "language": "python",
   "name": "python3"
  },
  "language_info": {
   "codemirror_mode": {
    "name": "ipython",
    "version": 3
   },
   "file_extension": ".py",
   "mimetype": "text/x-python",
   "name": "python",
   "nbconvert_exporter": "python",
   "pygments_lexer": "ipython3",
   "version": "3.7.4"
  }
 },
 "nbformat": 4,
 "nbformat_minor": 4
}
