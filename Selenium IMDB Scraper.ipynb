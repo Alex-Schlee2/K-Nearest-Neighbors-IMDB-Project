{
 "cells": [
  {
   "cell_type": "code",
   "execution_count": 1,
   "metadata": {},
   "outputs": [],
   "source": [
    "#Required packages\n",
    "from selenium import webdriver\n",
    "from selenium.webdriver.chrome.options import Options \n",
    "from selenium.webdriver.support.select import Select\n",
    "from selenium.webdriver.support.ui import Select\n",
    "from webdriver_manager.chrome import ChromeDriverManager\n",
    "from selenium.webdriver.common.action_chains import ActionChains\n",
    "from selenium.webdriver.common.keys import Keys\n",
    "from selenium.webdriver.common.by import By\n",
    "import csv\n",
    "import pandas as pd\n",
    "import numpy as np\n",
    "import seaborn as sns\n",
    "import matplotlib.pyplot as plt\n",
    "%matplotlib inline\n",
    "import time\n",
    "#import scrapy"
   ]
  },
  {
   "cell_type": "markdown",
   "metadata": {},
   "source": [
    "## Step 1- Working with Selenium"
   ]
  },
  {
   "cell_type": "code",
   "execution_count": 10,
   "metadata": {},
   "outputs": [
    {
     "name": "stdout",
     "output_type": "stream",
     "text": [
      "https://www.imdb.com/search/title/?title_type=feature,tv_movie&release_date=1990-01-01,2020-12-31&user_rating=1.0,10.0&groups=oscar_nominee&colors=color&languages=en\n"
     ]
    }
   ],
   "source": [
    "#Initializing Chrome Driver\n",
    "driver=webdriver.Chrome(\"C:/Users/aschlee/Desktop/AlexSchlee/2020/Weiterbildung/Own Data Science Projects/#6 KNN/chromedriver\")\n",
    "#Go to Google.com\n",
    "driver.get('https://www.google.com/')\n",
    "driver.maximize_window()\n",
    "#Search for IMBD and Enter\n",
    "driver.find_element_by_class_name('gLFyf').send_keys('imdb', Keys.RETURN)\n",
    "time.sleep(1)\n",
    "\n",
    "#IMBD Google Search Result click\n",
    "driver.find_element_by_class_name('LC20lb').click()\n",
    "time.sleep(1)\n",
    "\n",
    "#click on dropdown\n",
    "driver.find_element_by_class_name('ipc-icon--arrow-drop-down').click()\n",
    "time.sleep(1)\n",
    "\n",
    "#Mouse Hover Over\n",
    "element=driver.find_element_by_link_text('Advanced Search')\n",
    "hover=ActionChains(driver).move_to_element(element)\n",
    "hover.perform()\n",
    "time.sleep(1)\n",
    "element.click()\n",
    "\n",
    "#Click on advanced search\n",
    "driver.find_element_by_link_text('Advanced Title Search').click()\n",
    "time.sleep(1)\n",
    "\n",
    "#Select Feature Film\n",
    "driver.find_element_by_xpath('//div[@class=\"clause\"][2]/div[@class=\"inputs\"]/table/tbody/tr/td/label').click()\n",
    "time.sleep(1)\n",
    "\n",
    "#Select TV Movie\n",
    "driver.find_element_by_xpath('//div[@class=\"clause\"][2]/div[@class=\"inputs\"]/table/tbody/tr/td[2]/label[@for=\"title_type-2\"]').click()\n",
    "time.sleep(1)\n",
    "\n",
    "#Release date min\n",
    "driver.find_element_by_xpath('//input[@name=\"release_date-min\"]').click()\n",
    "time.sleep(1)\n",
    "driver.find_element_by_xpath('//input[@name=\"release_date-min\"]').send_keys('1990')\n",
    "time.sleep(1)\n",
    "\n",
    "#Release date max\n",
    "driver.find_element_by_xpath('//input[@name=\"release_date-max\"]').click()\n",
    "time.sleep(1)\n",
    "driver.find_element_by_xpath('//input[@name=\"release_date-max\"]').send_keys('2020')\n",
    "time.sleep(1)\n",
    "\n",
    "#click on dropdown- select Rating 1.0\n",
    "driver.find_element_by_xpath('//select[@name=\"user_rating-min\"]').click()\n",
    "time.sleep(1)\n",
    "dropdown=Select(driver.find_element_by_xpath('//select[@name=\"user_rating-min\"]'))\n",
    "dropdown.select_by_visible_text('1.0')\n",
    "time.sleep(1)\n",
    "\n",
    "#click on dropdown- select Rating 10\n",
    "driver.find_element_by_xpath('//select[@name=\"user_rating-max\"]').click()\n",
    "time.sleep(1)\n",
    "dropdown=Select(driver.find_element_by_xpath('//select[@name=\"user_rating-max\"]'))\n",
    "dropdown.select_by_visible_text('10')\n",
    "time.sleep(1)\n",
    "\n",
    "#Oscar Nominated\n",
    "driver.find_element_by_xpath('//input[@value=\"oscar_nominees\"]').click()\n",
    "\n",
    "#Movies in Color\n",
    "driver.find_element_by_xpath('//label[@for=\"colors-1\"]').click()\n",
    "time.sleep(1)\n",
    "\n",
    "#Select english language\n",
    "dropdown2=Select(driver.find_element_by_xpath('//select[@class=\"languages\"]'))\n",
    "dropdown2.select_by_index(72)\n",
    "time.sleep(2)\n",
    "\n",
    "#click submit button\n",
    "driver.find_element_by_xpath('//button[@class=\"primary\"]').click()\n",
    "time.sleep(1)\n",
    "\n",
    "#current URL\n",
    "current_url=driver.current_url\n",
    "print(current_url)\n",
    "\n"
   ]
  },
  {
   "cell_type": "markdown",
   "metadata": {},
   "source": [
    "## Step 2- Working with Scrapy"
   ]
  },
  {
   "cell_type": "code",
   "execution_count": 4,
   "metadata": {},
   "outputs": [
    {
     "name": "stderr",
     "output_type": "stream",
     "text": [
      "C:\\Users\\aschlee\\AppData\\Local\\Continuum\\anaconda3-1\\envs\\web_scraping\\lib\\site-packages\\ipykernel_launcher.py:17: ScrapyDeprecationWarning: Importing from scrapy.xlib.pydispatch is deprecated and will no longer be supported in future Scrapy versions. If you just want to connect signals use the from_crawler class method, otherwise import pydispatch directly if needed. See: https://github.com/scrapy/scrapy/issues/1762\n"
     ]
    }
   ],
   "source": [
    "#Required packages\n",
    "import scrapy\n",
    "import requests\n",
    "import scrapy.crawler as crawler\n",
    "from scrapy.linkextractors import LinkExtractor\n",
    "from scrapy.utils.project import get_project_settings\n",
    "from scrapy import Spider\n",
    "from scrapy.selector import Selector\n",
    "from scrapy.http import Request\n",
    "from multiprocessing import Process, Queue\n",
    "from twisted.internet import reactor\n",
    "from scrapy import signals\n",
    "from scrapy.crawler import CrawlerProcess\n",
    "from scrapy.spiders import CrawlSpider, Rule\n",
    "from importlib import import_module\n",
    "import csv\n",
    "from scrapy.utils.project import get_project_settings\n",
    "from scrapy.xlib.pydispatch import dispatcher\n",
    "from crochet import setup\n",
    "setup()"
   ]
  },
  {
   "cell_type": "code",
   "execution_count": 1,
   "metadata": {},
   "outputs": [],
   "source": [
    "class BestMovies(CrawlSpider):\n",
    "    name = 'selected_movies'\n",
    "    allowed_domains = ['imdb.com']\n",
    "    start_urls = [current_url]\n",
    "    \n",
    "    #Pagination\n",
    "    rules = (\n",
    "        Rule(LinkExtractor(restrict_xpaths=\"//h3[@class='lister-item-header']/a\"), callback='parse_item', follow=True),\n",
    "        Rule(LinkExtractor(restrict_xpaths=\"//a[@class='lister-page-next next-page']\"))\n",
    "    )\n",
    "    \n",
    "    def parse_item(self,response):\n",
    "        #get movie title\n",
    "        title= response.xpath(\"//div[@class='title_wrapper']/h1/text()\").get()  \n",
    "        #get movie year\n",
    "        year=response.xpath(\"//div[@class='title_wrapper']/h1/span/a/text()\").get()\n",
    "        #get movie rating\n",
    "        rating=response.xpath(\"//span[@itemprop='ratingValue']/text()\").get()\n",
    "        #get movie rating count\n",
    "        rating_count=response.xpath(\"//span[@itemprop='ratingCount']/text()\").get()\n",
    "        #get genre information\n",
    "        genre=response.xpath(\"//div[@class='subtext']/a/text()\").getall()\n",
    "\n",
    "     \n",
    "        #Store the results in a python dictionary\n",
    "        yield {\n",
    "            'title': title,\n",
    "            'year': year,\n",
    "            'rating': rating,\n",
    "            'rating_count': rating_count,\n",
    "            'genre': genre\n",
    "            }\n",
    "     \n",
    " #Storing the results in a csv file      \n",
    "process = CrawlerProcess({\n",
    "\"User Agent\": 'Mozilla/5.0 (Windows NT 6.1; Win64; x64; rv:68.0) Gecko/20100101 Firefox/68.0',\n",
    "'FEED_FORMAT': 'csv',\n",
    "'FEED_URI': '\\\\C:\\\\Users\\\\aschlee\\\\Desktop\\\\AlexSchlee\\\\2020\\\\Weiterbildung\\\\Own Data Science Projects\\\\Dataset1- IMDB-Scraped-Data.csv'\n",
    "})\n",
    "\n",
    "#Start the Scrapy Spider\n",
    "process.crawl(BestMovies)\n",
    "process.start(stop_after_crawl=False) "
   ]
  }
 ],
 "metadata": {
  "kernelspec": {
   "display_name": "Python 3",
   "language": "python",
   "name": "python3"
  },
  "language_info": {
   "codemirror_mode": {
    "name": "ipython",
    "version": 3
   },
   "file_extension": ".py",
   "mimetype": "text/x-python",
   "name": "python",
   "nbconvert_exporter": "python",
   "pygments_lexer": "ipython3",
   "version": "3.8.1"
  }
 },
 "nbformat": 4,
 "nbformat_minor": 4
}
